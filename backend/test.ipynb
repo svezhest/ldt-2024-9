{
 "cells": [
  {
   "cell_type": "code",
   "execution_count": 11,
   "metadata": {},
   "outputs": [
    {
     "name": "stdout",
     "output_type": "stream",
     "text": [
      "Requirement already satisfied: pandas in ./.venv/lib/python3.11/site-packages (2.2.2)\n",
      "Requirement already satisfied: numpy>=1.23.2 in ./.venv/lib/python3.11/site-packages (from pandas) (1.26.4)\n",
      "Requirement already satisfied: python-dateutil>=2.8.2 in ./.venv/lib/python3.11/site-packages (from pandas) (2.9.0.post0)\n",
      "Requirement already satisfied: pytz>=2020.1 in ./.venv/lib/python3.11/site-packages (from pandas) (2024.1)\n",
      "Requirement already satisfied: tzdata>=2022.7 in ./.venv/lib/python3.11/site-packages (from pandas) (2024.1)\n",
      "Requirement already satisfied: six>=1.5 in ./.venv/lib/python3.11/site-packages (from python-dateutil>=2.8.2->pandas) (1.16.0)\n",
      "Note: you may need to restart the kernel to use updated packages.\n",
      "Requirement already satisfied: statsmodels in ./.venv/lib/python3.11/site-packages (0.14.2)\n",
      "Requirement already satisfied: numpy>=1.22.3 in ./.venv/lib/python3.11/site-packages (from statsmodels) (1.26.4)\n",
      "Requirement already satisfied: scipy!=1.9.2,>=1.8 in ./.venv/lib/python3.11/site-packages (from statsmodels) (1.13.1)\n",
      "Requirement already satisfied: pandas!=2.1.0,>=1.4 in ./.venv/lib/python3.11/site-packages (from statsmodels) (2.2.2)\n",
      "Requirement already satisfied: patsy>=0.5.6 in ./.venv/lib/python3.11/site-packages (from statsmodels) (0.5.6)\n",
      "Requirement already satisfied: packaging>=21.3 in ./.venv/lib/python3.11/site-packages (from statsmodels) (24.1)\n",
      "Requirement already satisfied: python-dateutil>=2.8.2 in ./.venv/lib/python3.11/site-packages (from pandas!=2.1.0,>=1.4->statsmodels) (2.9.0.post0)\n",
      "Requirement already satisfied: pytz>=2020.1 in ./.venv/lib/python3.11/site-packages (from pandas!=2.1.0,>=1.4->statsmodels) (2024.1)\n",
      "Requirement already satisfied: tzdata>=2022.7 in ./.venv/lib/python3.11/site-packages (from pandas!=2.1.0,>=1.4->statsmodels) (2024.1)\n",
      "Requirement already satisfied: six in ./.venv/lib/python3.11/site-packages (from patsy>=0.5.6->statsmodels) (1.16.0)\n",
      "Note: you may need to restart the kernel to use updated packages.\n",
      "Collecting chardet\n",
      "  Downloading chardet-5.2.0-py3-none-any.whl.metadata (3.4 kB)\n",
      "Downloading chardet-5.2.0-py3-none-any.whl (199 kB)\n",
      "\u001b[2K   \u001b[90m━━━━━━━━━━━━━━━━━━━━━━━━━━━━━━━━━━━━━━━━\u001b[0m \u001b[32m199.4/199.4 kB\u001b[0m \u001b[31m1.8 MB/s\u001b[0m eta \u001b[36m0:00:00\u001b[0ma \u001b[36m0:00:01\u001b[0mm\n",
      "\u001b[?25hInstalling collected packages: chardet\n",
      "Successfully installed chardet-5.2.0\n",
      "Note: you may need to restart the kernel to use updated packages.\n"
     ]
    }
   ],
   "source": [
    "%pip install pandas\n",
    "%pip install statsmodels\n",
    "%pip install chardet"
   ]
  },
  {
   "cell_type": "code",
   "execution_count": 17,
   "metadata": {},
   "outputs": [
    {
     "name": "stdout",
     "output_type": "stream",
     "text": [
      "[{'Год': 2024, 'Номер недели': 5, 'Тип исследования': 'КТ', 'Количество исследований': 4776.994168850379}, {'Год': 2024, 'Номер недели': 5, 'Тип исследования': 'КТ с КУ 1 зона', 'Количество исследований': 492.26746725212723}, {'Год': 2024, 'Номер недели': 5, 'Тип исследования': 'КТ с КУ 2 и более зон', 'Количество исследований': 488.99296104085306}, {'Год': 2024, 'Номер недели': 5, 'Тип исследования': 'ММГ', 'Количество исследований': 19909.236806572186}, {'Год': 2024, 'Номер недели': 5, 'Тип исследования': 'МРТ', 'Количество исследований': 1845.8437925523208}, {'Год': 2024, 'Номер недели': 5, 'Тип исследования': 'МРТ с КУ 1 зона', 'Количество исследований': 809.71996573569}, {'Год': 2024, 'Номер недели': 5, 'Тип исследования': 'РГ', 'Количество исследований': 96984.4067991673}, {'Год': 2024, 'Номер недели': 5, 'Тип исследования': 'Флюорограф', 'Количество исследований': 10304.190090422202}, {'Год': 2024, 'Номер недели': 6, 'Тип исследования': 'КТ', 'Количество исследований': 3848.590649562907}, {'Год': 2024, 'Номер недели': 6, 'Тип исследования': 'КТ с КУ 1 зона', 'Количество исследований': 511.51964454798076}, {'Год': 2024, 'Номер недели': 6, 'Тип исследования': 'КТ с КУ 2 и более зон', 'Количество исследований': 550.3359184865872}, {'Год': 2024, 'Номер недели': 6, 'Тип исследования': 'ММГ', 'Количество исследований': 20167.971067458788}, {'Год': 2024, 'Номер недели': 6, 'Тип исследования': 'МРТ', 'Количество исследований': 1796.8425967213177}, {'Год': 2024, 'Номер недели': 6, 'Тип исследования': 'МРТ с КУ 1 зона', 'Количество исследований': 755.6314751717248}, {'Год': 2024, 'Номер недели': 6, 'Тип исследования': 'РГ', 'Количество исследований': 96940.37540848812}, {'Год': 2024, 'Номер недели': 6, 'Тип исследования': 'Флюорограф', 'Количество исследований': 13857.786855925322}, {'Год': 2024, 'Номер недели': 7, 'Тип исследования': 'КТ', 'Количество исследований': 2350.7447075462424}, {'Год': 2024, 'Номер недели': 7, 'Тип исследования': 'КТ с КУ 1 зона', 'Количество исследований': 537.2816043430985}, {'Год': 2024, 'Номер недели': 7, 'Тип исследования': 'КТ с КУ 2 и более зон', 'Количество исследований': 554.1076586295443}, {'Год': 2024, 'Номер недели': 7, 'Тип исследования': 'ММГ', 'Количество исследований': 20930.973333280457}, {'Год': 2024, 'Номер недели': 7, 'Тип исследования': 'МРТ', 'Количество исследований': 1822.3087147441183}, {'Год': 2024, 'Номер недели': 7, 'Тип исследования': 'МРТ с КУ 1 зона', 'Количество исследований': 861.3581887245392}, {'Год': 2024, 'Номер недели': 7, 'Тип исследования': 'РГ', 'Количество исследований': 96082.27600302952}, {'Год': 2024, 'Номер недели': 7, 'Тип исследования': 'Флюорограф', 'Количество исследований': 16778.98205933976}, {'Год': 2024, 'Номер недели': 8, 'Тип исследования': 'КТ', 'Количество исследований': 385.6690827330734}, {'Год': 2024, 'Номер недели': 8, 'Тип исследования': 'КТ с КУ 1 зона', 'Количество исследований': 343.70359755999175}, {'Год': 2024, 'Номер недели': 8, 'Тип исследования': 'КТ с КУ 2 и более зон', 'Количество исследований': 484.9066222213667}, {'Год': 2024, 'Номер недели': 8, 'Тип исследования': 'ММГ', 'Количество исследований': 14361.530780971281}, {'Год': 2024, 'Номер недели': 8, 'Тип исследования': 'МРТ', 'Количество исследований': 1246.1913696062632}, {'Год': 2024, 'Номер недели': 8, 'Тип исследования': 'МРТ с КУ 1 зона', 'Количество исследований': 631.2164173265875}, {'Год': 2024, 'Номер недели': 8, 'Тип исследования': 'РГ', 'Количество исследований': 72582.08164577145}, {'Год': 2024, 'Номер недели': 8, 'Тип исследования': 'Флюорограф', 'Количество исследований': 11051.545152960076}]\n"
     ]
    }
   ],
   "source": [
    "import pandas as pd\n",
    "import numpy as np\n",
    "from statsmodels.tsa.statespace.sarimax import SARIMAX\n",
    "import chardet\n",
    "import warnings\n",
    "warnings.filterwarnings(\"ignore\")\n",
    "\n",
    "\n",
    "\n",
    "file_path = 'data.csv' \n",
    "\n",
    "with open(file_path, 'rb') as f:\n",
    "    result = chardet.detect(f.read())\n",
    "encoding = result['encoding']\n",
    "\n",
    "df = pd.read_csv(file_path, encoding=encoding, sep=',')\n",
    "\n",
    "if 'Год' not in df.columns or 'Номер недели' not in df.columns:\n",
    "    raise KeyError(\"Отсутствуют необходимые столбцы 'Год' и 'Номер недели'.\")\n",
    "\n",
    "\n",
    "df['Дата'] = pd.to_datetime(df['Год'].astype(str) + '-W' + df['Номер недели'].astype(str) + '-1', format='%G-W%V-%u', errors='coerce')\n",
    "df = df.dropna(subset=['Дата'])\n",
    "df = df[df['Дата'].dt.year >= 2022]  \n",
    "df.set_index('Дата', inplace=True)\n",
    "\n",
    "grouped = df[['КТ', 'КТ с КУ 1 зона', 'КТ с КУ 2 и более зон', 'ММГ', 'МРТ', 'МРТ с КУ 1 зона', 'МРТ с КУ 2 и более зон', 'РГ', 'Флюорограф']]\n",
    "\n",
    "best_params = {\n",
    "    'КТ': {'order': (1, 1, 1), 'seasonal_order': (1, 1, 1, 52)},\n",
    "    'КТ с КУ 1 зона': {'order': (1, 0, 1), 'seasonal_order': (1, 1, 0, 52)},\n",
    "    'КТ с КУ 2 и более зон': {'order': (2, 1, 2), 'seasonal_order': (0, 1, 1, 52)},\n",
    "    'ММГ': {'order': (1, 1, 0), 'seasonal_order': (1, 0, 1, 52)},\n",
    "    'МРТ': {'order': (0, 1, 1), 'seasonal_order': (1, 1, 1, 52)},\n",
    "    'МРТ с КУ 1 зона': {'order': (1, 0, 2), 'seasonal_order': (1, 1, 0, 52)},\n",
    "    'МРТ с КУ 2 и более зон': {'order': (2, 1, 1), 'seasonal_order': (1, 1, 1, 52)},\n",
    "    'РГ': {'order': (1, 1, 1), 'seasonal_order': (0, 1, 1, 52)},\n",
    "    'Флюорограф': {'order': (1, 0, 1), 'seasonal_order': (1, 1, 0, 52)}\n",
    "}\n",
    "\n",
    "forecasts = {}\n",
    "\n",
    "for column in grouped.columns:\n",
    "    group = grouped[[column]].dropna()\n",
    "    \n",
    "    if len(group) < 10: \n",
    "        continue\n",
    "    \n",
    "    params = best_params.get(column, None)\n",
    "    if params is None:\n",
    "        continue\n",
    "    \n",
    "    order = params['order']\n",
    "    seasonal_order = params['seasonal_order']\n",
    "    \n",
    "    try:\n",
    "        model = SARIMAX(group[column], order=order, seasonal_order=seasonal_order)\n",
    "        results = model.fit(disp=False)\n",
    "        forecast = results.get_forecast(steps=4)\n",
    "        \n",
    "        forecasts[column] = forecast.predicted_mean\n",
    "        \n",
    "    except Exception as e:\n",
    "        print(f\"Не удалось построить модель для\")\n",
    "\n",
    "if forecasts:\n",
    "    forecast_df = pd.DataFrame(forecasts)\n",
    "    forecast_df = forecast_df.reset_index()\n",
    "    forecast_df['index'] = pd.to_datetime(forecast_df['index'])  \n",
    "    forecast_df = forecast_df[forecast_df['index'].dt.year > 2022]  \n",
    "    forecast_df['Год'] = forecast_df['index'].dt.year\n",
    "    forecast_df['Номер недели'] = forecast_df['index'].dt.isocalendar().week\n",
    "\n",
    "    forecast_melted = forecast_df.melt(id_vars=['Год', 'Номер недели'], var_name='Тип исследования', value_name='Количество исследований')\n",
    "\n",
    "    forecast_melted = forecast_melted.dropna(subset=['Количество исследований'])\n",
    "\n",
    "    forecast_melted = forecast_melted[~forecast_melted['Количество исследований'].apply(lambda x: isinstance(x, pd.Timestamp))]\n",
    "\n",
    "    forecast_melted = forecast_melted.sort_values(by=['Год', 'Номер недели']).reset_index(drop=True)\n",
    "\n",
    "    forecast_list = forecast_melted.to_dict(orient='records')\n",
    "    print(forecast_list)"
   ]
  }
 ],
 "metadata": {
  "kernelspec": {
   "display_name": ".venv",
   "language": "python",
   "name": "python3"
  },
  "language_info": {
   "codemirror_mode": {
    "name": "ipython",
    "version": 3
   },
   "file_extension": ".py",
   "mimetype": "text/x-python",
   "name": "python",
   "nbconvert_exporter": "python",
   "pygments_lexer": "ipython3",
   "version": "3.11.9"
  }
 },
 "nbformat": 4,
 "nbformat_minor": 2
}
